{
  "nbformat": 4,
  "nbformat_minor": 0,
  "metadata": {
    "colab": {
      "provenance": []
    },
    "kernelspec": {
      "name": "python3",
      "display_name": "Python 3"
    },
    "language_info": {
      "name": "python"
    }
  },
  "cells": [
    {
      "cell_type": "markdown",
      "source": [
        "# Rough Work"
      ],
      "metadata": {
        "id": "3-NuTrTSYpl_"
      }
    },
    {
      "cell_type": "code",
      "execution_count": null,
      "metadata": {
        "id": "mydKvDtf5rlU"
      },
      "outputs": [],
      "source": [
        "import numpy as np\n",
        "\n",
        "m1 = np.array([[1, 2], [3, 4]])\n",
        "m2 = np.array([[5, 6], [7, 8]])\n"
      ]
    },
    {
      "cell_type": "code",
      "source": [
        "temp = m2.T"
      ],
      "metadata": {
        "id": "W1ZzOTkV6Cpa"
      },
      "execution_count": null,
      "outputs": []
    },
    {
      "cell_type": "code",
      "source": [
        "temp"
      ],
      "metadata": {
        "colab": {
          "base_uri": "https://localhost:8080/"
        },
        "id": "D2DCh1mo6M4P",
        "outputId": "9654b84d-1d2a-4d9f-ff02-b9d65a88344a"
      },
      "execution_count": null,
      "outputs": [
        {
          "output_type": "execute_result",
          "data": {
            "text/plain": [
              "array([[5, 7],\n",
              "       [6, 8]])"
            ]
          },
          "metadata": {},
          "execution_count": 5
        }
      ]
    },
    {
      "cell_type": "code",
      "source": [
        "np.roll(temp, 1)"
      ],
      "metadata": {
        "colab": {
          "base_uri": "https://localhost:8080/"
        },
        "id": "4597sv8t6OOE",
        "outputId": "4eb68b4f-8b1d-45d6-ceab-a81b4bc23f71"
      },
      "execution_count": null,
      "outputs": [
        {
          "output_type": "execute_result",
          "data": {
            "text/plain": [
              "array([[8, 5],\n",
              "       [7, 6]])"
            ]
          },
          "metadata": {},
          "execution_count": 8
        }
      ]
    },
    {
      "cell_type": "markdown",
      "source": [
        "# Min Max"
      ],
      "metadata": {
        "id": "-57qpmV1YuPQ"
      }
    },
    {
      "cell_type": "code",
      "source": [
        "# Min Max\n",
        "\n",
        "import numpy as np\n",
        "\n",
        "m1 = np.array([[1, 2], [3, 4]])\n",
        "m2 = np.array([[5, 6], [7, 8]])\n",
        "temp = m2.T\n",
        "print(f\"Matrix 1 : \\n{m1}\\n\\nMatrix2 : \\n{m2}\\n\\nTranspose of Matrix 2 : \\n{temp}\")\n",
        "final = []\n",
        "for i in m1:\n",
        "  c=[]\n",
        "  for j in temp:\n",
        "    c.append(np.min(np.maximum(i ,j)))\n",
        "  final.append(c)\n",
        "final = np.array(final)\n",
        "final"
      ],
      "metadata": {
        "colab": {
          "base_uri": "https://localhost:8080/"
        },
        "id": "Hlz-jUYB6kXf",
        "outputId": "9abf251a-114b-4f50-d1ab-a5552e1807de"
      },
      "execution_count": null,
      "outputs": [
        {
          "output_type": "execute_result",
          "data": {
            "text/plain": [
              "array([[5, 6],\n",
              "       [5, 6]])"
            ]
          },
          "metadata": {},
          "execution_count": 24
        }
      ]
    },
    {
      "cell_type": "markdown",
      "source": [
        "# Min Product"
      ],
      "metadata": {
        "id": "CM1IS22wYyWg"
      }
    },
    {
      "cell_type": "code",
      "source": [
        "# Min Prod\n",
        "\n",
        "import numpy as np\n",
        "\n",
        "m1 = np.array([[1, 2], [3, 4]])\n",
        "m2 = np.array([[5, 6], [7, 8]])\n",
        "temp = m2.T\n",
        "print(f\"Matrix 1 : \\n{m1}\\n\\nMatrix2 : \\n{m2}\\n\\nTranspose of Matrix 2 : \\n{temp}\")\n",
        "final = []\n",
        "# for i in m1:\n",
        "#   c=[]\n",
        "#   for j in temp:\n",
        "#     c.append(np.min(np.multiply(i ,j)))\n",
        "#   final.append(c)\n",
        "final = np.min(np.multiply(m1[:, np.newaxis], temp), axis=2)\n",
        "final = np.array(final)\n",
        "final"
      ],
      "metadata": {
        "colab": {
          "base_uri": "https://localhost:8080/"
        },
        "id": "6T8fpGrV7ukk",
        "outputId": "45e8a3fb-202c-406f-c555-4b7e171c3ae9"
      },
      "execution_count": null,
      "outputs": [
        {
          "output_type": "stream",
          "name": "stdout",
          "text": [
            "Matrix 1 : \n",
            "[[1 2]\n",
            " [3 4]]\n",
            "\n",
            "Matrix2 : \n",
            "[[5 6]\n",
            " [7 8]]\n",
            "\n",
            "Transpose of Matrix 2 : \n",
            "[[5 7]\n",
            " [6 8]]\n"
          ]
        },
        {
          "output_type": "execute_result",
          "data": {
            "text/plain": [
              "array([[ 5,  6],\n",
              "       [15, 18]])"
            ]
          },
          "metadata": {},
          "execution_count": 39
        }
      ]
    },
    {
      "cell_type": "code",
      "source": [
        "m1[:, np.newaxis]"
      ],
      "metadata": {
        "colab": {
          "base_uri": "https://localhost:8080/"
        },
        "id": "6nY6pllk9-41",
        "outputId": "a0e05385-3686-4371-99ae-9fa632d53c8f"
      },
      "execution_count": null,
      "outputs": [
        {
          "output_type": "execute_result",
          "data": {
            "text/plain": [
              "array([[[1, 2]],\n",
              "\n",
              "       [[3, 4]]])"
            ]
          },
          "metadata": {},
          "execution_count": 36
        }
      ]
    },
    {
      "cell_type": "code",
      "source": [
        "np.maximum(m1[:, np.newaxis], temp)"
      ],
      "metadata": {
        "colab": {
          "base_uri": "https://localhost:8080/"
        },
        "id": "iwo8VMIQ_sBm",
        "outputId": "8c43d244-646b-4570-8662-7a8ed3aa8540"
      },
      "execution_count": null,
      "outputs": [
        {
          "output_type": "execute_result",
          "data": {
            "text/plain": [
              "array([[[5, 7],\n",
              "        [6, 8]],\n",
              "\n",
              "       [[5, 7],\n",
              "        [6, 8]]])"
            ]
          },
          "metadata": {},
          "execution_count": 34
        }
      ]
    }
  ]
}