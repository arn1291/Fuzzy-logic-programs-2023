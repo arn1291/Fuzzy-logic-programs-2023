{
  "nbformat": 4,
  "nbformat_minor": 0,
  "metadata": {
    "colab": {
      "provenance": []
    },
    "kernelspec": {
      "name": "python3",
      "display_name": "Python 3"
    },
    "language_info": {
      "name": "python"
    }
  },
  "cells": [
    {
      "cell_type": "code",
      "execution_count": null,
      "metadata": {
        "colab": {
          "base_uri": "https://localhost:8080/"
        },
        "id": "NdmeNU75iNJy",
        "outputId": "e94c4b4b-1e8a-4141-f775-03aa36a6fa86"
      },
      "outputs": [
        {
          "output_type": "stream",
          "name": "stdout",
          "text": [
            "2\n",
            "2\n",
            "1 2 3 4\n",
            "2 3 4 5\n",
            "[[1. 2.]\n",
            " [3. 4.]]\n",
            "[[2. 3.]\n",
            " [4. 5.]]\n",
            "[[2. 3.]\n",
            " [3. 3.]]\n"
          ]
        }
      ],
      "source": [
        "import numpy as np\n",
        "n = int(input())\n",
        "m = int(input())\n",
        "a = list(map(float, input().split()))\n",
        "b = list(map(float, input().split()))\n",
        "matrix1 = np.array(a).reshape(n, m)\n",
        "matrix2 = np.array(b).reshape(n, m)\n",
        "print(matrix1)\n",
        "print(matrix2)\n",
        "mat = list()\n",
        "s = []\n",
        "for i in range(n):\n",
        "    for j in range(m):\n",
        "        for k in range(m):\n",
        "            s.append(max(matrix1[i][k], matrix2[k][j]))\n",
        "\n",
        "        mat.append(min(s))\n",
        "        s.clear()\n",
        "\n",
        "mat = np.array(mat).reshape(n, m)\n",
        "print(mat)"
      ]
    }
  ]
}