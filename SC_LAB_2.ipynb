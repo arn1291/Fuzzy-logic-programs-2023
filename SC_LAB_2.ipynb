{
  "nbformat": 4,
  "nbformat_minor": 0,
  "metadata": {
    "colab": {
      "provenance": []
    },
    "kernelspec": {
      "name": "python3",
      "display_name": "Python 3"
    },
    "language_info": {
      "name": "python"
    }
  },
  "cells": [
    {
      "cell_type": "code",
      "execution_count": null,
      "metadata": {
        "id": "S51ZuOhzK87M"
      },
      "outputs": [],
      "source": [
        "import numpy as np\n",
        "def max_min_composition(P, Q):\n",
        "    n = len(P)\n",
        "    m = len(Q[0])\n",
        "    R = np.zeros((n, m))\n",
        "    for i in range(n):\n",
        "        for k in range(m):\n",
        "            R[i, k] = np.max(np.minimum(P[i, :], Q[:, k]))\n",
        "    return R"
      ]
    },
    {
      "cell_type": "code",
      "source": [
        "def max_dot_composition(P, Q):\n",
        "    n = len(P)\n",
        "    m = len(Q[0])\n",
        "    R = np.zeros((n, m))\n",
        "    for i in range(n):\n",
        "        for k in range(m):\n",
        "            R[i, k] = np.max(P[i, :] * Q[:, k])\n",
        "    return R\n"
      ],
      "metadata": {
        "id": "_gpnyy_lNnVT"
      },
      "execution_count": null,
      "outputs": []
    },
    {
      "cell_type": "code",
      "source": [
        "P = np.array([[0.6, 0.6, 0.8, 0.9],\n",
        "              [0.1, 0.2, 0.9, 0.8],\n",
        "              [0.9, 0.3, 0.4, 0.8],\n",
        "              [0.9, 0.8, 0.1, 0.2]])\n",
        "\n",
        "Q = np.array([[0.1, 0.2, 0.7, 0.9],\n",
        "              [1.1, 0.4, 0.6, 0.0],\n",
        "              [0.0, 0.5, 0.9, 0.0],\n",
        "              [0.9, 1.0, 0.8, 0.2]])\n",
        "# Max-min composition\n",
        "R_max_dot = max_dot_composition(P, Q)\n",
        "print(\"Max-dot Composition (R_max_dot):\")\n",
        "print(R_max_dot)"
      ],
      "metadata": {
        "colab": {
          "base_uri": "https://localhost:8080/"
        },
        "id": "c7IZzMngOGgO",
        "outputId": "146c6abe-7ca5-4385-fe9f-516224157a04"
      },
      "execution_count": null,
      "outputs": [
        {
          "output_type": "stream",
          "name": "stdout",
          "text": [
            "Max-dot Composition (R_max_dot):\n",
            "[[0.81 0.9  0.72 0.54]\n",
            " [0.72 0.8  0.81 0.16]\n",
            " [0.72 0.8  0.64 0.81]\n",
            " [0.88 0.32 0.63 0.81]]\n"
          ]
        }
      ]
    },
    {
      "cell_type": "code",
      "source": [
        "# Max-dot composition\n",
        "R_max_dot = max_dot_composition(P, Q)\n",
        "print(\"Max-dot Composition (R_max_dot):\")\n",
        "print(R_max_dot)"
      ],
      "metadata": {
        "colab": {
          "base_uri": "https://localhost:8080/"
        },
        "id": "n1aCVMbKOOXY",
        "outputId": "c5be09e4-99ae-4d9e-9d0b-03a86ad0c6f2"
      },
      "execution_count": null,
      "outputs": [
        {
          "output_type": "stream",
          "name": "stdout",
          "text": [
            "Max-dot Composition (R_max_dot):\n",
            "[[0.81 0.9  0.72 0.54]\n",
            " [0.72 0.8  0.81 0.16]\n",
            " [0.72 0.8  0.64 0.81]\n",
            " [0.88 0.32 0.63 0.81]]\n"
          ]
        }
      ]
    },
    {
      "cell_type": "code",
      "source": [
        "class FuzzySet:\n",
        "    def __init__(self, elements):\n",
        "        self.elements = dict(elements)\n",
        "\n",
        "    def union(self, other):\n",
        "        union_elements = dict(self.elements)\n",
        "        for key, value in other.elements.items():\n",
        "            if key in union_elements:\n",
        "                union_elements[key] = max(union_elements[key], value)\n",
        "            else:\n",
        "                union_elements[key] = value\n",
        "        return FuzzySet(union_elements.items())\n",
        "\n",
        "    def intersection(self, other):\n",
        "        intersection_elements = {}\n",
        "        for key, value in self.elements.items():\n",
        "            if key in other.elements:\n",
        "                intersection_elements[key] = min(value, other.elements[key])\n",
        "        return FuzzySet(intersection_elements.items())\n",
        "\n",
        "    def __str__(self):\n",
        "        return str(self.elements)\n",
        "\n",
        "\n",
        "# Create the fuzzy sets\n",
        "a = FuzzySet({('x1', 0.5), ('x2', 0.7), ('x3', 0.0)})\n",
        "b = FuzzySet({('x1', 0.8), ('x2', 0.2), ('x3', 1.0)})\n",
        "\n",
        "# Perform set operations\n",
        "union_result = a.union(b)\n",
        "intersection_result = a.intersection(b)\n",
        "\n",
        "# Print the results\n",
        "print(\"Union:\", union_result)\n",
        "print(\"Intersection:\", intersection_result)"
      ],
      "metadata": {
        "colab": {
          "base_uri": "https://localhost:8080/"
        },
        "id": "3tYokK8tOPzu",
        "outputId": "49158c11-f6bc-4744-c2f0-a94c4f213fd9"
      },
      "execution_count": null,
      "outputs": [
        {
          "output_type": "stream",
          "name": "stdout",
          "text": [
            "Union: {'x2': 0.7, 'x1': 0.8, 'x3': 1.0}\n",
            "Intersection: {'x2': 0.2, 'x1': 0.5, 'x3': 0.0}\n"
          ]
        }
      ]
    }
  ]
}