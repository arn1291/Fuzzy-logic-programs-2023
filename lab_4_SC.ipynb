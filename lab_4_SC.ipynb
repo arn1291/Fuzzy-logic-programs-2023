{
  "nbformat": 4,
  "nbformat_minor": 0,
  "metadata": {
    "colab": {
      "provenance": []
    },
    "kernelspec": {
      "name": "python3",
      "display_name": "Python 3"
    },
    "language_info": {
      "name": "python"
    }
  },
  "cells": [
    {
      "cell_type": "code",
      "execution_count": null,
      "metadata": {
        "colab": {
          "base_uri": "https://localhost:8080/"
        },
        "id": "7sJh0oxhXE-U",
        "outputId": "c6f4aee0-e0cd-402c-9ef7-31456b42ca85"
      },
      "outputs": [
        {
          "output_type": "stream",
          "name": "stdout",
          "text": [
            "Fuzzified value: 1.0\n",
            "Defuzzified value (bisector): 5.0\n",
            "Defuzzified value (mean of greatest): 1.0\n"
          ]
        }
      ],
      "source": [
        "import math\n",
        "\n",
        "def fuzzify(x, a, b, c, d):\n",
        "    if x < a:\n",
        "        return 0\n",
        "    elif x <= b:\n",
        "        return (x - a) / (b - a)\n",
        "    elif x < c:\n",
        "        return 1\n",
        "    elif x <= d:\n",
        "        return (d - x) / (d - c)\n",
        "    else:\n",
        "        return 0\n",
        "\n",
        "def defuzzify_bisector(x, a, b, c, d):\n",
        "    m = (a + b + c + d) / 2\n",
        "    return m * fuzzify(x, a, b, c, d)\n",
        "\n",
        "def defuzzify_mean_of_greatest(x, a, b, c, d):\n",
        "    y1 = fuzzify(x, a, b, c, d)\n",
        "    y2 = fuzzify(x, a, c, d, b)\n",
        "    return (y1 + y2) / 2\n",
        "\n",
        "if __name__ == \"__main__\":\n",
        "    x = 3\n",
        "    a = 1\n",
        "    b = 2\n",
        "    c = 3\n",
        "    d = 4\n",
        "    print(\"Fuzzified value:\", fuzzify(x, a, b, c, d))\n",
        "    print(\"Defuzzified value (bisector):\", defuzzify_bisector(x, a, b, c, d))\n",
        "    print(\"Defuzzified value (mean of greatest):\", defuzzify_mean_of_greatest(x, a, b, c, d))"
      ]
    },
    {
      "cell_type": "code",
      "source": [
        "!pip install -U scikit-fuzzy"
      ],
      "metadata": {
        "colab": {
          "base_uri": "https://localhost:8080/"
        },
        "id": "TgEWKKPYYDSw",
        "outputId": "08c2295b-fea4-43ae-a55c-c2d9ac794dc0"
      },
      "execution_count": null,
      "outputs": [
        {
          "output_type": "stream",
          "name": "stdout",
          "text": [
            "Collecting scikit-fuzzy\n",
            "  Downloading scikit-fuzzy-0.4.2.tar.gz (993 kB)\n",
            "\u001b[2K     \u001b[90m━━━━━━━━━━━━━━━━━━━━━━━━━━━━━━━━━━━━━━━\u001b[0m \u001b[32m994.0/994.0 kB\u001b[0m \u001b[31m7.5 MB/s\u001b[0m eta \u001b[36m0:00:00\u001b[0m\n",
            "\u001b[?25h  Preparing metadata (setup.py) ... \u001b[?25l\u001b[?25hdone\n",
            "Requirement already satisfied: numpy>=1.6.0 in /usr/local/lib/python3.10/dist-packages (from scikit-fuzzy) (1.23.5)\n",
            "Requirement already satisfied: scipy>=0.9.0 in /usr/local/lib/python3.10/dist-packages (from scikit-fuzzy) (1.11.3)\n",
            "Requirement already satisfied: networkx>=1.9.0 in /usr/local/lib/python3.10/dist-packages (from scikit-fuzzy) (3.1)\n",
            "Building wheels for collected packages: scikit-fuzzy\n",
            "  Building wheel for scikit-fuzzy (setup.py) ... \u001b[?25l\u001b[?25hdone\n",
            "  Created wheel for scikit-fuzzy: filename=scikit_fuzzy-0.4.2-py3-none-any.whl size=894079 sha256=b01f588681949210ea746102bdb85ae69791e98589985224d7bebcf462a6bc56\n",
            "  Stored in directory: /root/.cache/pip/wheels/4f/86/1b/dfd97134a2c8313e519bcebd95d3fedc7be7944db022094bc8\n",
            "Successfully built scikit-fuzzy\n",
            "Installing collected packages: scikit-fuzzy\n",
            "Successfully installed scikit-fuzzy-0.4.2\n"
          ]
        }
      ]
    },
    {
      "cell_type": "code",
      "source": [
        "import numpy as np\n",
        "import skfuzzy as fuzz\n",
        "import matplotlib.pyplot as plt\n",
        "# Define the input variable\n",
        "x = np.arange(0, 10, 0.1)\n",
        "# Define the Gaussian membership function\n",
        "mf = fuzz.gaussmf(x, 5, 2)\n",
        "# Plot the membership function\n",
        "plt.plot(x, mf)\n",
        "plt.show()\n",
        "# Fuzzify the input variable\n",
        "z = fuzz.interp_membership(x, mf, 6.5)\n",
        "# Print the fuzzified value\n",
        "print(z)\n",
        "# Defuzzify the fuzzified value using centre-of-gravity defuzzifier\n",
        "y = fuzz.defuzz(x, mf, 'centroid')\n",
        "# Print the defuzzified value\n",
        "print(y)"
      ],
      "metadata": {
        "colab": {
          "base_uri": "https://localhost:8080/",
          "height": 465
        },
        "id": "oUf0ORmGYH2q",
        "outputId": "877b6810-cb2e-4f91-b66f-9da757a2feca"
      },
      "execution_count": null,
      "outputs": [
        {
          "output_type": "display_data",
          "data": {
            "text/plain": [
              "<Figure size 640x480 with 1 Axes>"
            ],
            "image/png": "[encoded data removed]"
          },
          "metadata": {}
        },
        {
          "output_type": "stream",
          "name": "stdout",
          "text": [
            "0.7548396019890073\n",
            "4.995314306493746\n"
          ]
        }
      ]
    }
  ]
}